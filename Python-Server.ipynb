{
 "cells": [
  {
   "cell_type": "code",
   "execution_count": 1,
   "metadata": {},
   "outputs": [],
   "source": [
    "import socket\n",
    "import threading\n",
    "import json\n",
    "import time"
   ]
  },
  {
   "cell_type": "code",
   "execution_count": 2,
   "metadata": {},
   "outputs": [],
   "source": [
    "connections = {}\n",
    "server_sockets = []"
   ]
  },
  {
   "cell_type": "code",
   "execution_count": 3,
   "metadata": {},
   "outputs": [],
   "source": [
    "def handle_client(conn, addr, client_name):\n",
    "    \"\"\"\n",
    "    Handles communication with a connected client.\n",
    "    \"\"\"\n",
    "    print(f\"{client_name} connected from {addr}\")\n",
    "    connections[client_name] = conn\n",
    "    try:\n",
    "        while True:\n",
    "            data = conn.recv(1024)  # Receive data\n",
    "            if not data:\n",
    "                break\n",
    "\n",
    "            message = data[2:].decode('utf-8')\n",
    "\n",
    "            message_dict = json.loads(message)\n",
    "\n",
    "            print(f\"Received from {client_name}: {message_dict}\")\n",
    "    except ConnectionResetError:\n",
    "        print(f\"{client_name} disconnected.\")\n",
    "    finally:\n",
    "        conn.close()\n",
    "        if client_name in connections:\n",
    "            del connections[client_name]"
   ]
  },
  {
   "cell_type": "code",
   "execution_count": 4,
   "metadata": {},
   "outputs": [],
   "source": [
    "def start_server(port, client_name):\n",
    "    \"\"\"\n",
    "    Starts a server socket listening on a specified port for a specific client.\n",
    "    \"\"\"\n",
    "    server_socket = socket.socket(socket.AF_INET, socket.SOCK_STREAM)\n",
    "    server_socket.bind(('127.0.0.1', port))\n",
    "    server_socket.listen(5)\n",
    "    server_sockets.append(server_socket)  # Track the server socket\n",
    "    print(f\"Server listening for {client_name} on port {port}...\")\n",
    "    try:\n",
    "        while True:\n",
    "            conn, addr = server_socket.accept()\n",
    "            threading.Thread(target=handle_client, args=(conn, addr, client_name)).start()\n",
    "    except Exception as e:\n",
    "        print(f\"Server for {client_name} on port {port} encountered an error: {e}\")\n",
    "    finally:\n",
    "        server_socket.close()"
   ]
  },
  {
   "cell_type": "code",
   "execution_count": 5,
   "metadata": {},
   "outputs": [],
   "source": [
    "def send_message_to(client_name, message):\n",
    "    \"\"\"\n",
    "    Sends a message to a connected client.\n",
    "    \"\"\"\n",
    "    if client_name in connections:\n",
    "        try:\n",
    "            encodedMessage = message.encode()\n",
    "            connections[client_name].send(encodedMessage)\n",
    "            print(f\"Sending message: {encodedMessage}\")\n",
    "        except BrokenPipeError:\n",
    "            print(f\"Failed to send message to {client_name}. Connection might be closed.\")\n",
    "    else:\n",
    "        print(f\"{client_name} is not connected.\")"
   ]
  },
  {
   "cell_type": "code",
   "execution_count": 6,
   "metadata": {},
   "outputs": [],
   "source": [
    "def close_all_connections():\n",
    "    \"\"\"\n",
    "    Closes all client connections and server sockets.\n",
    "    \"\"\"\n",
    "    print(\"Closing all connections...\")\n",
    "    for client_name, conn in list(connections.items()):\n",
    "        try:\n",
    "            conn.close()\n",
    "            print(f\"Closed connection for {client_name}\")\n",
    "        except Exception as e:\n",
    "            print(f\"Error closing connection for {client_name}: {e}\")\n",
    "        finally:\n",
    "            del connections[client_name]\n",
    "\n",
    "    for server_socket in server_sockets:\n",
    "        try:\n",
    "            server_socket.close()\n",
    "            print(\"Server socket closed.\")\n",
    "        except Exception as e:\n",
    "            print(f\"Error closing server socket: {e}\")"
   ]
  },
  {
   "cell_type": "code",
   "execution_count": 7,
   "metadata": {},
   "outputs": [],
   "source": [
    "def run_servers():\n",
    "    \"\"\"\n",
    "    Starts server threads and keeps them running in a while loop.\n",
    "    \"\"\"\n",
    "    threading.Thread(target=start_server, args=(3000, \"Java\")).start()\n",
    "    # threading.Thread(target=start_server, args=(4200, \"Unity\")).start()\n",
    "\n",
    "    try:\n",
    "        while True:\n",
    "            time.sleep(1)  # Keep the main thread alive\n",
    "    except KeyboardInterrupt:\n",
    "        print(\"Shutting down servers...\")\n",
    "        close_all_connections()"
   ]
  },
  {
   "cell_type": "code",
   "execution_count": null,
   "metadata": {},
   "outputs": [],
   "source": [
    "run_servers()"
   ]
  },
  {
   "cell_type": "code",
   "execution_count": null,
   "metadata": {},
   "outputs": [],
   "source": []
  }
 ],
 "metadata": {
  "kernelspec": {
   "display_name": "base",
   "language": "python",
   "name": "python3"
  },
  "language_info": {
   "codemirror_mode": {
    "name": "ipython",
    "version": 3
   },
   "file_extension": ".py",
   "mimetype": "text/x-python",
   "name": "python",
   "nbconvert_exporter": "python",
   "pygments_lexer": "ipython3",
   "version": "3.9.12"
  }
 },
 "nbformat": 4,
 "nbformat_minor": 2
}
